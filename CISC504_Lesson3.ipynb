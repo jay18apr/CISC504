{
 "cells": [
  {
   "cell_type": "code",
   "execution_count": 1,
   "metadata": {},
   "outputs": [
    {
     "name": "stdout",
     "output_type": "stream",
     "text": [
      "Height in meters: 1.85\n",
      "Weight in kg: 85\n",
      "24.835646457268076\n"
     ]
    }
   ],
   "source": [
    "height = float(input('Height in meters: '))\n",
    "weight = int(input('Weight in kg: '))\n",
    "bmi = weight/(height*height)\n",
    "print (bmi)"
   ]
  },
  {
   "cell_type": "code",
   "execution_count": 2,
   "metadata": {},
   "outputs": [
    {
     "name": "stdout",
     "output_type": "stream",
     "text": [
      "Quarters: 4\n",
      "Dimes: 10\n",
      "Nickels: 20\n",
      "Pennies: 100\n",
      "The total value of your change is 4.0\n"
     ]
    }
   ],
   "source": [
    "quarters = int(input(\"Quarters: \"))\n",
    "dimes = int(input(\"Dimes: \"))\n",
    "nickels = int(input(\"Nickels: \"))\n",
    "pennies = int(input(\"Pennies: \"))\n",
    "total = quarters * .25 + dimes * .10 + nickels * .05 + pennies * .01\n",
    "print (\"The total value of your change is\", total)"
   ]
  },
  {
   "cell_type": "code",
   "execution_count": 10,
   "metadata": {},
   "outputs": [
    {
     "name": "stdout",
     "output_type": "stream",
     "text": [
      "Number of days: 2\n",
      "Number ofhours: 2\n",
      "Number of minutes: 2\n",
      "Number of seconds: 2\n",
      "Total number of seconds 180122\n"
     ]
    }
   ],
   "source": [
    "days = int(input(\"Number of days: \")) * 3600 * 24\n",
    "hours = int(input(\"Number ofhours: \")) * 3600\n",
    "minutes = int(input(\"Number of minutes: \")) * 60\n",
    "seconds = int(input(\"Number of seconds: \"))\n",
    "\n",
    "time = days + hours + minutes + seconds\n",
    "\n",
    "print(\"Total number of seconds\", time)"
   ]
  },
  {
   "cell_type": "code",
   "execution_count": 9,
   "metadata": {},
   "outputs": [
    {
     "name": "stdout",
     "output_type": "stream",
     "text": [
      "Sorted Array :  [  1   3   4  10  21  26  33  43  45  51  56  65 106]\n",
      "Mean :  35.69230769230769\n",
      "Median :  33.0\n"
     ]
    }
   ],
   "source": [
    "list1=[26,1,43,21,33,106,45,4,10,3,51,56,65]\n",
    "import numpy as np\n",
    "print('Sorted Array : ',np.sort(list1))\n",
    "print('Mean : ',np.mean(list1))\n",
    "print('Median : ',np.median(list1))"
   ]
  },
  {
   "cell_type": "code",
   "execution_count": 19,
   "metadata": {},
   "outputs": [
    {
     "name": "stdout",
     "output_type": "stream",
     "text": [
      "PI 3.141592653589793\n",
      "The area of a circle with a radius of 2 is: 12.566370614359172\n",
      "Euler's number: 2.718281828459045\n",
      "24.702977498943074\n",
      "Exp E: 15.154262241479262\n",
      "Exp PI: 23.140692632779267\n"
     ]
    }
   ],
   "source": [
    "import math\n",
    "print('PI',math.pi)\n",
    "radius = 2\n",
    "print('The area of a circle with a radius of 2 is:', math.pi * (radius ** 2))\n",
    "print(\"Euler's number:\",math.e)\n",
    "print((math.e + 6 / 2) * 4.32)\n",
    "\n",
    "print('Exp E:',math.exp(math.e))\n",
    "print('Exp PI:',math.exp(math.pi))"
   ]
  },
  {
   "cell_type": "code",
   "execution_count": 17,
   "metadata": {},
   "outputs": [
    {
     "name": "stdout",
     "output_type": "stream",
     "text": [
      "403.4287934927351\n",
      "0.00033546262790251185\n",
      "7.38905609893065\n"
     ]
    }
   ],
   "source": [
    "import math\n",
    "\n",
    "# Initializing values\n",
    "an_int = 6\n",
    "a_neg_int = -8\n",
    "a_float = 2.00\n",
    "\n",
    "# Pass the values to exp() method and print\n",
    "print(math.exp(an_int))\n",
    "print(math.exp(a_neg_int))\n",
    "print(math.exp(a_float))"
   ]
  },
  {
   "cell_type": "code",
   "execution_count": 22,
   "metadata": {},
   "outputs": [
    {
     "name": "stdout",
     "output_type": "stream",
     "text": [
      "math.log(10.43): 2.344686269012681\n",
      "math.log(20): 2.995732273553991\n",
      "math.log(math.pi): 1.1447298858494002\n",
      "The log10 of 50 is: 1.6989700043360187\n",
      "The log2 of 16 is: 4.0\n",
      "The log 3 with base 4 is: 0.7924812503605781\n",
      "Logarithm(1+x) value of 10 is: 2.3978952727983707\n"
     ]
    }
   ],
   "source": [
    "import math\n",
    "\n",
    "print(\"math.log(10.43):\", math.log(10.43))\n",
    "print(\"math.log(20):\", math.log(20))\n",
    "print(\"math.log(math.pi):\", math.log(math.pi))\n",
    "\n",
    "# Returns the log10 of 50\n",
    "print(\"The log10 of 50 is:\", math.log10(50))\n",
    "\n",
    "# Returns the log2 of 16\n",
    "print(\"The log2 of 16 is:\", math.log2(16))\n",
    "\n",
    "# Returns the log of 3,4\n",
    "print(\"The log 3 with base 4 is:\", math.log(3, 4))\n",
    "\n",
    "print(\"Logarithm(1+x) value of 10 is:\", math.log1p(10))"
   ]
  },
  {
   "cell_type": "code",
   "execution_count": 23,
   "metadata": {},
   "outputs": [
    {
     "name": "stdout",
     "output_type": "stream",
     "text": [
      "The number is: -4.28\n",
      "The floor value is: -5\n",
      "The ceiling value is: -4\n",
      "The absolute value is: 4.28\n",
      "The GCD of a and b is: 2\n",
      "Sum of the list elements is: 16.029999999999998\n",
      "e^x (using function exp()) is: 0.0001000050001667141\n",
      "e^x (using function expml()) is: 0.00010000500016667084\n"
     ]
    }
   ],
   "source": [
    "import math\n",
    "\n",
    "num = -4.28\n",
    "a = 14\n",
    "b = 8\n",
    "num_list = [10, 8.25, 75, 7.04, -86.23, -6.43, 8.4]\n",
    "x = 1e-4 # A small value of x\n",
    "\n",
    "print('The number is:', num)\n",
    "print('The floor value is:', math.floor(num))\n",
    "print('The ceiling value is:', math.ceil(num))\n",
    "print('The absolute value is:', math.fabs(num))\n",
    "print('The GCD of a and b is: ' + str(math.gcd(a, b)))\n",
    "print('Sum of the list elements is: ' + str(math.fsum(num_list)))\n",
    "print('e^x (using function exp()) is:', math.exp(x)-1)\n",
    "print('e^x (using function expml()) is:', math.expm1(x))"
   ]
  },
  {
   "cell_type": "code",
   "execution_count": 24,
   "metadata": {},
   "outputs": [
    {
     "name": "stdout",
     "output_type": "stream",
     "text": [
      "The value of the angle is: 1.0821041362364843\n",
      "sin(x) is: 0.8829475928589269\n",
      "tan(x) is: 1.8807264653463318\n",
      "cos(x) is: 0.46947156278589086\n"
     ]
    }
   ],
   "source": [
    "import math\n",
    "\n",
    "angle_In_Degrees = 62\n",
    "angle_In_Radians = math.radians(angle_In_Degrees)\n",
    "\n",
    "print('The value of the angle is:', angle_In_Radians)\n",
    "print('sin(x) is:', math.sin(angle_In_Radians))\n",
    "print('tan(x) is:', math.tan(angle_In_Radians))\n",
    "print('cos(x) is:', math.cos(angle_In_Radians))"
   ]
  },
  {
   "cell_type": "code",
   "execution_count": 26,
   "metadata": {},
   "outputs": [
    {
     "name": "stdout",
     "output_type": "stream",
     "text": [
      "[1, 1, 2, 3, 6, 8, 10]\n"
     ]
    }
   ],
   "source": [
    "def quicksort(arr):\n",
    "    if len(arr) <= 1:\n",
    "        return arr\n",
    "    pivot = arr[len(arr) // 2]\n",
    "    left = [x for x in arr if x < pivot]\n",
    "    middle = [x for x in arr if x == pivot]\n",
    "    right = [x for x in arr if x > pivot]\n",
    "    return quicksort(left) + middle + quicksort(right)\n",
    "\n",
    "print(quicksort([3,6,8,10,1,2,1]))"
   ]
  },
  {
   "cell_type": "code",
   "execution_count": 27,
   "metadata": {},
   "outputs": [
    {
     "name": "stdout",
     "output_type": "stream",
     "text": [
      "(3,)\n",
      "int32\n",
      "float64\n",
      "(2, 3)\n",
      "(2, 2, 3)\n"
     ]
    }
   ],
   "source": [
    "import numpy as np\n",
    "a  = np.array([1,2,3])\n",
    "print(a.shape)\n",
    "print(a.dtype)\n",
    "\n",
    "#### Different type\n",
    "b  = np.array([1.1,2.0,3.2])\n",
    "print(b.dtype)\n",
    "\n",
    "### 2 dimension\n",
    "c = np.array([(1,2,3),\n",
    "              (4,5,6)])\n",
    "print(c.shape)\n",
    "\n",
    "### 3 dimension\n",
    "d = np.array([\n",
    "    [[1, 2,3],\n",
    "        [4, 5, 6]],\n",
    "    [[7, 8,9],\n",
    "        [10, 11, 12]]\n",
    "])\n",
    "print(d.shape)"
   ]
  },
  {
   "cell_type": "code",
   "execution_count": 28,
   "metadata": {},
   "outputs": [
    {
     "name": "stdout",
     "output_type": "stream",
     "text": [
      "numpy zero: [[0. 0.]\n",
      " [0. 0.]]\n",
      "numpy zero datatype: [[0 0]\n",
      " [0 0]]\n",
      "numpy one 2D Array with datatype: [[[1 1 1]\n",
      "  [1 1 1]]]\n"
     ]
    }
   ],
   "source": [
    "import numpy as np\n",
    "print('numpy zero:',np.zeros((2,2)))\n",
    "\n",
    "print('numpy zero datatype:',np.zeros((2,2), dtype=np.int16))\n",
    "\n",
    "print('numpy one 2D Array with datatype:',np.ones((1,2,3), dtype=np.int16))"
   ]
  },
  {
   "cell_type": "code",
   "execution_count": 30,
   "metadata": {},
   "outputs": [
    {
     "name": "stdout",
     "output_type": "stream",
     "text": [
      "[[1 2 3]\n",
      " [4 5 6]]\n"
     ]
    },
    {
     "data": {
      "text/plain": [
       "array([1, 2, 3, 4, 5, 6])"
      ]
     },
     "execution_count": 30,
     "metadata": {},
     "output_type": "execute_result"
    }
   ],
   "source": [
    "import numpy as np\n",
    "e  = np.array([(1,2,3), (4,5,6)])\n",
    "print(e)\n",
    "e.reshape(3,2)\n",
    "\n",
    "e.flatten()"
   ]
  },
  {
   "cell_type": "code",
   "execution_count": 32,
   "metadata": {},
   "outputs": [
    {
     "name": "stdout",
     "output_type": "stream",
     "text": [
      "Horizontal Append: [1 2 3 4 5 6]\n",
      "Vertical Append: [[1 2 3]\n",
      " [4 5 6]]\n",
      "[4.68489632 5.33777004 5.01956691 4.09819423 5.16268406 4.45930823\n",
      " 6.12045644 5.30620246 4.33356879 5.37419298]\n"
     ]
    }
   ],
   "source": [
    "## Horitzontal Stack\n",
    "import numpy as np\n",
    "f = np.array([1,2,3])\n",
    "g = np.array([4,5,6])\n",
    "\n",
    "print('Horizontal Append:', np.hstack((f, g)))\n",
    "\n",
    "## Vertical Stack\n",
    "import numpy as np\n",
    "f = np.array([1,2,3])\n",
    "g = np.array([4,5,6])\n",
    "\n",
    "print('Vertical Append:', np.vstack((f, g)))\n",
    "\n",
    "## Generate random nmber from normal distribution\n",
    "normal_array = np.random.normal(5, 0.5, 10)\n",
    "print(normal_array)\t"
   ]
  },
  {
   "cell_type": "code",
   "execution_count": 35,
   "metadata": {},
   "outputs": [
    {
     "name": "stdout",
     "output_type": "stream",
     "text": [
      "[[1. 1. 1. 1.]\n",
      " [1. 1. 1. 1.]\n",
      " [1. 1. 1. 1.]\n",
      " [1. 1. 1. 1.]]\n",
      "[[1. 1. 1. 1.]\n",
      " [1. 1. 1. 1.]\n",
      " [2. 2. 2. 2.]\n",
      " [1. 1. 1. 1.]]\n"
     ]
    }
   ],
   "source": [
    "import numpy as np\n",
    "A = np.matrix(np.ones((4,4)))\n",
    "print(A)\n",
    "\n",
    "np.asarray(A)[2]=2\n",
    "print(A)"
   ]
  },
  {
   "cell_type": "code",
   "execution_count": 39,
   "metadata": {},
   "outputs": [
    {
     "name": "stdout",
     "output_type": "stream",
     "text": [
      "[ 1  2  3  4  5  6  7  8  9 10]\n",
      "[ 1  5  9 13]\n"
     ]
    }
   ],
   "source": [
    "import numpy as np\n",
    "a = np.arange(1, 11)\n",
    "print(a)\n",
    "b = np.arange(1, 14, 4)\n",
    "print(b)"
   ]
  },
  {
   "cell_type": "code",
   "execution_count": 42,
   "metadata": {},
   "outputs": [
    {
     "name": "stdout",
     "output_type": "stream",
     "text": [
      "[1.         1.44444444 1.88888889 2.33333333 2.77777778 3.22222222\n",
      " 3.66666667 4.11111111 4.55555556 5.        ]\n",
      "[1.  1.8 2.6 3.4 4.2]\n",
      "[ 1000.          2154.43469003  4641.58883361 10000.        ]\n"
     ]
    },
    {
     "data": {
      "text/plain": [
       "16"
      ]
     },
     "execution_count": 42,
     "metadata": {},
     "output_type": "execute_result"
    }
   ],
   "source": [
    "import numpy as np\n",
    "\n",
    "#create 10 values from 1 to 5 evenly spaced\n",
    "a = np.linspace(1.0, 5.0, num=10)\n",
    "\n",
    "print(a)\n",
    "\n",
    "#not want to include the last digit in the interval\n",
    "b = np.linspace(1.0, 5.0, num=5, endpoint=False)\n",
    "\n",
    "print(b)\n",
    "\n",
    "#returns even spaced numbers on a log scale\n",
    "c = np.logspace(3.0, 4.0, num=4)\n",
    "\n",
    "print(c)\n",
    "\n",
    "#check the size of an array\n",
    "x = np.array([1,2,3], dtype=np.complex128)\n",
    "x.itemsize"
   ]
  },
  {
   "cell_type": "code",
   "execution_count": 48,
   "metadata": {},
   "outputs": [
    {
     "name": "stdout",
     "output_type": "stream",
     "text": [
      "[[1 2 3]\n",
      " [4 5 6]]\n",
      "First row: [1 2 3]\n",
      "Second row: [4 5 6]\n",
      "Second column: [2 5]\n",
      "[4 5]\n"
     ]
    }
   ],
   "source": [
    "## Slice\n",
    "import numpy as np\n",
    "e  = np.array([(1,2,3), (4,5,6)])\n",
    "print(e)\n",
    "\n",
    "## First row\n",
    "print('First row:', e[0])\n",
    "\n",
    "## Second row\n",
    "print('Second row:', e[1])\n",
    "\n",
    "print('Second column:', e[:,1])\n",
    "\n",
    "## Second Row, two values\n",
    "print(e[1, :2])"
   ]
  },
  {
   "cell_type": "code",
   "execution_count": 49,
   "metadata": {},
   "outputs": [
    {
     "name": "stdout",
     "output_type": "stream",
     "text": [
      "[4.28652589 5.55193378 4.0653692  4.68320737 4.84754857 4.71037272\n",
      " 5.08352383 4.52881676 5.67051969 5.82584014]\n",
      "4.065369195266315\n",
      "5.825840138068\n",
      "4.925365793054442\n",
      "4.778960641128759\n",
      "0.5656491608870244\n"
     ]
    }
   ],
   "source": [
    "import numpy as np\n",
    "normal_array = np.random.normal(5, 0.5, 10)\n",
    "print(normal_array)\n",
    "\n",
    "### Min \n",
    "print(np.min(normal_array))\n",
    "\n",
    "### Max \n",
    "print(np.max(normal_array))\n",
    "\n",
    "### Mean \n",
    "print(np.mean(normal_array))\n",
    "\n",
    "### Median\n",
    "print(np.median(normal_array))\n",
    "\n",
    "### Sd\n",
    "print(np.std(normal_array))"
   ]
  },
  {
   "cell_type": "code",
   "execution_count": 50,
   "metadata": {},
   "outputs": [
    {
     "data": {
      "text/plain": [
       "14"
      ]
     },
     "execution_count": 50,
     "metadata": {},
     "output_type": "execute_result"
    }
   ],
   "source": [
    "## Linear algebra\n",
    "### Dot product: product of two arrays\n",
    "f = np.array([1,2])\n",
    "g = np.array([4,5])\n",
    "### 1*4+2*5\n",
    "np.dot(f, g)"
   ]
  },
  {
   "cell_type": "code",
   "execution_count": 52,
   "metadata": {},
   "outputs": [
    {
     "name": "stdout",
     "output_type": "stream",
     "text": [
      "Matmul: [[19 22]\n",
      " [43 50]]\n",
      "Determinate: -1.999999999999999\n"
     ]
    }
   ],
   "source": [
    "### Matmul: matruc product of two arrays\n",
    "h = [[1,2],[3,4]] \n",
    "i = [[5,6],[7,8]] \n",
    "### 1*5+2*7 = 19\n",
    "print('Matmul:',np.matmul(h, i))\n",
    "\n",
    "## Determinant 2*2 matrix\n",
    "### 5*8-7*6\n",
    "print('Determinate:',np.linalg.det(i))"
   ]
  },
  {
   "cell_type": "code",
   "execution_count": null,
   "metadata": {},
   "outputs": [],
   "source": []
  }
 ],
 "metadata": {
  "kernelspec": {
   "display_name": "Python 3",
   "language": "python",
   "name": "python3"
  },
  "language_info": {
   "codemirror_mode": {
    "name": "ipython",
    "version": 3
   },
   "file_extension": ".py",
   "mimetype": "text/x-python",
   "name": "python",
   "nbconvert_exporter": "python",
   "pygments_lexer": "ipython3",
   "version": "3.7.5"
  }
 },
 "nbformat": 4,
 "nbformat_minor": 2
}
