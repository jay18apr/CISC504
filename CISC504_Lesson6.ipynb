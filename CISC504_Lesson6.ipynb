{
 "cells": [
  {
   "cell_type": "code",
   "execution_count": 1,
   "metadata": {},
   "outputs": [
    {
     "name": "stdout",
     "output_type": "stream",
     "text": [
      "Hello John\n",
      "How are you?\n"
     ]
    }
   ],
   "source": [
    "def greet_john_function():\n",
    "    print(\"Hello John\")\n",
    "    print(\"How are you?\")\n",
    "greet_john_function()"
   ]
  },
  {
   "cell_type": "code",
   "execution_count": 2,
   "metadata": {},
   "outputs": [
    {
     "name": "stdout",
     "output_type": "stream",
     "text": [
      "Hello John\n",
      "How are you?\n"
     ]
    }
   ],
   "source": [
    "def greet_function(person):\n",
    "    print(\"Hello\" + person)\n",
    "    print(\"How are you?\")\n",
    "greet_function(' John')"
   ]
  },
  {
   "cell_type": "code",
   "execution_count": 3,
   "metadata": {},
   "outputs": [
    {
     "data": {
      "text/plain": [
       "40"
      ]
     },
     "execution_count": 3,
     "metadata": {},
     "output_type": "execute_result"
    }
   ],
   "source": [
    "def multiply(a,b,c):\n",
    "    return a*b*c\n",
    "multiply(2,4,5)"
   ]
  },
  {
   "cell_type": "code",
   "execution_count": 4,
   "metadata": {},
   "outputs": [
    {
     "name": "stdout",
     "output_type": "stream",
     "text": [
      "40\n"
     ]
    }
   ],
   "source": [
    "multiply_a=multiply(2,4,5)\n",
    "print (multiply_a)"
   ]
  },
  {
   "cell_type": "code",
   "execution_count": 5,
   "metadata": {},
   "outputs": [
    {
     "data": {
      "text/plain": [
       "8"
      ]
     },
     "execution_count": 5,
     "metadata": {},
     "output_type": "execute_result"
    }
   ],
   "source": [
    "def function_a():\n",
    "    global b\n",
    "    a=2\n",
    "    b=3\n",
    "    return a + b\n",
    "def function_b():\n",
    "    c=5\n",
    "    return b+c\n",
    "function_a()\n",
    "function_b()"
   ]
  },
  {
   "cell_type": "code",
   "execution_count": 6,
   "metadata": {},
   "outputs": [
    {
     "data": {
      "text/plain": [
       "35"
      ]
     },
     "execution_count": 6,
     "metadata": {},
     "output_type": "execute_result"
    }
   ],
   "source": [
    "def function_sum(a,b,c,d,e,f):\n",
    "    return a+b+c+d+e+f;\n",
    "function_sum(5,8,2,4,7,9)"
   ]
  },
  {
   "cell_type": "code",
   "execution_count": 7,
   "metadata": {},
   "outputs": [
    {
     "data": {
      "text/plain": [
       "720"
      ]
     },
     "execution_count": 7,
     "metadata": {},
     "output_type": "execute_result"
    }
   ],
   "source": [
    "def function_multipy(a,b,c,d,e):\n",
    "    return a*b*c*d*e;\n",
    "function_multipy(4,3,5,6,2)"
   ]
  },
  {
   "cell_type": "code",
   "execution_count": 8,
   "metadata": {},
   "outputs": [],
   "source": [
    "##Creating an empty list\n",
    "empty_list=[]\n",
    "\n",
    "## Creating a list of numbers\n",
    "number_list=[1,5,3,7,9]\n",
    "\n",
    "## Creating a list of strings\n",
    "string_list=['s', 'r', 'q']"
   ]
  },
  {
   "cell_type": "code",
   "execution_count": 9,
   "metadata": {},
   "outputs": [
    {
     "data": {
      "text/plain": [
       "[1, 5, 3, 7, 9]"
      ]
     },
     "execution_count": 9,
     "metadata": {},
     "output_type": "execute_result"
    }
   ],
   "source": [
    "number_list"
   ]
  },
  {
   "cell_type": "code",
   "execution_count": 10,
   "metadata": {},
   "outputs": [
    {
     "data": {
      "text/plain": [
       "['s', 'r', 'q']"
      ]
     },
     "execution_count": 10,
     "metadata": {},
     "output_type": "execute_result"
    }
   ],
   "source": [
    "string_list"
   ]
  },
  {
   "cell_type": "code",
   "execution_count": 11,
   "metadata": {},
   "outputs": [],
   "source": [
    "list_of_lists=[string_list,number_list]"
   ]
  },
  {
   "cell_type": "code",
   "execution_count": 12,
   "metadata": {},
   "outputs": [
    {
     "data": {
      "text/plain": [
       "[['s', 'r', 'q'], [1, 5, 3, 7, 9]]"
      ]
     },
     "execution_count": 12,
     "metadata": {},
     "output_type": "execute_result"
    }
   ],
   "source": [
    "list_of_lists"
   ]
  },
  {
   "cell_type": "code",
   "execution_count": 13,
   "metadata": {},
   "outputs": [
    {
     "data": {
      "text/plain": [
       "['s', 'r', 'q', 1, 5, 3, 7, 9]"
      ]
     },
     "execution_count": 13,
     "metadata": {},
     "output_type": "execute_result"
    }
   ],
   "source": [
    "combined_list=string_list + number_list\n",
    "combined_list"
   ]
  },
  {
   "cell_type": "code",
   "execution_count": 14,
   "metadata": {},
   "outputs": [
    {
     "data": {
      "text/plain": [
       "['s', 'r', 'q', 1]"
      ]
     },
     "execution_count": 14,
     "metadata": {},
     "output_type": "execute_result"
    }
   ],
   "source": [
    "combined_list[:4]"
   ]
  },
  {
   "cell_type": "code",
   "execution_count": 15,
   "metadata": {},
   "outputs": [
    {
     "data": {
      "text/plain": [
       "[5, 3, 7, 9]"
      ]
     },
     "execution_count": 15,
     "metadata": {},
     "output_type": "execute_result"
    }
   ],
   "source": [
    "combined_list[4:8]"
   ]
  },
  {
   "cell_type": "code",
   "execution_count": 16,
   "metadata": {},
   "outputs": [],
   "source": [
    "tuple1=(6,5,8,9,10,12)"
   ]
  },
  {
   "cell_type": "code",
   "execution_count": 17,
   "metadata": {},
   "outputs": [
    {
     "data": {
      "text/plain": [
       "(6, 5, 8, 9, 10, 12)"
      ]
     },
     "execution_count": 17,
     "metadata": {},
     "output_type": "execute_result"
    }
   ],
   "source": [
    "tuple1"
   ]
  },
  {
   "cell_type": "code",
   "execution_count": 18,
   "metadata": {},
   "outputs": [],
   "source": [
    "## Casting from Tuple to List\n",
    "\n",
    "tuple1_list=list(tuple1)"
   ]
  },
  {
   "cell_type": "code",
   "execution_count": 19,
   "metadata": {},
   "outputs": [
    {
     "data": {
      "text/plain": [
       "[6, 5, 8, 9, 10, 12]"
      ]
     },
     "execution_count": 19,
     "metadata": {},
     "output_type": "execute_result"
    }
   ],
   "source": [
    "tuple1_list"
   ]
  },
  {
   "cell_type": "code",
   "execution_count": 20,
   "metadata": {},
   "outputs": [],
   "source": [
    "list1=['a','b','c','d','e','f','g']"
   ]
  },
  {
   "cell_type": "code",
   "execution_count": 21,
   "metadata": {},
   "outputs": [
    {
     "data": {
      "text/plain": [
       "['a', 'b', 'c', 'd', 'e', 'f', 'g']"
      ]
     },
     "execution_count": 21,
     "metadata": {},
     "output_type": "execute_result"
    }
   ],
   "source": [
    "list1"
   ]
  },
  {
   "cell_type": "code",
   "execution_count": 22,
   "metadata": {},
   "outputs": [],
   "source": [
    "tuple_list1=tuple(list1)"
   ]
  },
  {
   "cell_type": "code",
   "execution_count": 23,
   "metadata": {},
   "outputs": [
    {
     "data": {
      "text/plain": [
       "('a', 'b', 'c', 'd', 'e', 'f', 'g')"
      ]
     },
     "execution_count": 23,
     "metadata": {},
     "output_type": "execute_result"
    }
   ],
   "source": [
    "tuple_list1"
   ]
  },
  {
   "cell_type": "code",
   "execution_count": 24,
   "metadata": {},
   "outputs": [],
   "source": [
    "Gender_code_dictionary={\"female\":1, \"male\":2, \"unknown\":3}"
   ]
  },
  {
   "cell_type": "code",
   "execution_count": 25,
   "metadata": {},
   "outputs": [
    {
     "data": {
      "text/plain": [
       "{'female': 1, 'male': 2, 'unknown': 3}"
      ]
     },
     "execution_count": 25,
     "metadata": {},
     "output_type": "execute_result"
    }
   ],
   "source": [
    "Gender_code_dictionary"
   ]
  },
  {
   "cell_type": "code",
   "execution_count": 26,
   "metadata": {},
   "outputs": [
    {
     "data": {
      "text/plain": [
       "2"
      ]
     },
     "execution_count": 26,
     "metadata": {},
     "output_type": "execute_result"
    }
   ],
   "source": [
    "Gender_code_dictionary[\"male\"]"
   ]
  },
  {
   "cell_type": "code",
   "execution_count": 27,
   "metadata": {},
   "outputs": [
    {
     "data": {
      "text/plain": [
       "1"
      ]
     },
     "execution_count": 27,
     "metadata": {},
     "output_type": "execute_result"
    }
   ],
   "source": [
    "Gender_code_dictionary[\"female\"]"
   ]
  },
  {
   "cell_type": "code",
   "execution_count": 28,
   "metadata": {},
   "outputs": [
    {
     "data": {
      "text/plain": [
       "numpy.ndarray"
      ]
     },
     "execution_count": 28,
     "metadata": {},
     "output_type": "execute_result"
    }
   ],
   "source": [
    "import numpy as np\n",
    "\n",
    "a=np.array([[4,5,6],[3,2,5]])\n",
    "type(a)"
   ]
  },
  {
   "cell_type": "code",
   "execution_count": 29,
   "metadata": {},
   "outputs": [
    {
     "data": {
      "text/plain": [
       "2"
      ]
     },
     "execution_count": 29,
     "metadata": {},
     "output_type": "execute_result"
    }
   ],
   "source": [
    "a.ndim ## Lists the dimensions of the array 2"
   ]
  },
  {
   "cell_type": "code",
   "execution_count": 30,
   "metadata": {},
   "outputs": [
    {
     "data": {
      "text/plain": [
       "(2, 3)"
      ]
     },
     "execution_count": 30,
     "metadata": {},
     "output_type": "execute_result"
    }
   ],
   "source": [
    "a.shape ## Lists the shape of the array 2 rows X 3 columns"
   ]
  },
  {
   "cell_type": "code",
   "execution_count": 31,
   "metadata": {},
   "outputs": [
    {
     "data": {
      "text/plain": [
       "6"
      ]
     },
     "execution_count": 31,
     "metadata": {},
     "output_type": "execute_result"
    }
   ],
   "source": [
    "a.size ## Lists the size or numbe of elements in an array"
   ]
  },
  {
   "cell_type": "code",
   "execution_count": 81,
   "metadata": {},
   "outputs": [
    {
     "data": {
      "text/plain": [
       "dtype('int32')"
      ]
     },
     "execution_count": 81,
     "metadata": {},
     "output_type": "execute_result"
    }
   ],
   "source": [
    "a.dtype ## Lists the data types of the array's elements."
   ]
  },
  {
   "cell_type": "code",
   "execution_count": 33,
   "metadata": {},
   "outputs": [
    {
     "data": {
      "text/plain": [
       "4"
      ]
     },
     "execution_count": 33,
     "metadata": {},
     "output_type": "execute_result"
    }
   ],
   "source": [
    "a.itemsize ## Lists the size of a single item in the array in bytes"
   ]
  },
  {
   "cell_type": "code",
   "execution_count": 34,
   "metadata": {},
   "outputs": [
    {
     "data": {
      "text/plain": [
       "24"
      ]
     },
     "execution_count": 34,
     "metadata": {},
     "output_type": "execute_result"
    }
   ],
   "source": [
    "a.nbytes ## Total size of memory consumed by all the elements in an array in bytes. In this case it is 6X4 bytes"
   ]
  },
  {
   "cell_type": "code",
   "execution_count": 35,
   "metadata": {},
   "outputs": [
    {
     "name": "stdout",
     "output_type": "stream",
     "text": [
      "[[3. 5. 6. 8. 9.]\n",
      " [6. 7. 5. 4. 5.]\n",
      " [9. 7. 6. 4. 3.]]\n"
     ]
    }
   ],
   "source": [
    "## Creating arrays from a list with float16 data type\n",
    "array1=np.array([[3,5,6,8,9],[6,7,5,4,5],[9,7,6,4,3]], dtype='float16')\n",
    "print(array1)"
   ]
  },
  {
   "cell_type": "code",
   "execution_count": 36,
   "metadata": {},
   "outputs": [
    {
     "name": "stdout",
     "output_type": "stream",
     "text": [
      "[[4 3 5 7]\n",
      " [7 8 8 9]]\n"
     ]
    }
   ],
   "source": [
    "## Creating arrays from tuples\n",
    "array2=np.array(((4,3,5,7),(7,8,8,9)))\n",
    "print (array2)"
   ]
  },
  {
   "cell_type": "code",
   "execution_count": 37,
   "metadata": {},
   "outputs": [
    {
     "data": {
      "text/plain": [
       "array([[0.89273964, 0.96129704, 0.1243408 , 0.59783199, 0.70420899],\n",
       "       [0.57249756, 0.70675661, 0.93845825, 0.45123091, 0.06013336],\n",
       "       [0.51869951, 0.14392051, 0.62968925, 0.29891973, 0.45579574],\n",
       "       [0.79231756, 0.62220706, 0.75247483, 0.83280938, 0.2736712 ]])"
      ]
     },
     "execution_count": 37,
     "metadata": {},
     "output_type": "execute_result"
    }
   ],
   "source": [
    "## Creating an array populated with random values:\n",
    "np.random.random((4,5))"
   ]
  },
  {
   "cell_type": "code",
   "execution_count": 38,
   "metadata": {},
   "outputs": [
    {
     "name": "stdout",
     "output_type": "stream",
     "text": [
      "[[0. 0. 0. 0. 0. 0. 0. 0.]\n",
      " [0. 0. 0. 0. 0. 0. 0. 0.]\n",
      " [0. 0. 0. 0. 0. 0. 0. 0.]\n",
      " [0. 0. 0. 0. 0. 0. 0. 0.]\n",
      " [0. 0. 0. 0. 0. 0. 0. 0.]]\n"
     ]
    }
   ],
   "source": [
    "## Creating a 5X8  array populated with zeros\n",
    "array3=np.zeros((5,8))\n",
    "print(array3)"
   ]
  },
  {
   "cell_type": "code",
   "execution_count": 39,
   "metadata": {},
   "outputs": [
    {
     "name": "stdout",
     "output_type": "stream",
     "text": [
      "[14 21 28 35 42]\n"
     ]
    }
   ],
   "source": [
    "## Creating a sequence of integers from 14 49 with steps of 7\n",
    "array4=np.arange(14,49,7)\n",
    "print(array4)"
   ]
  },
  {
   "cell_type": "code",
   "execution_count": 40,
   "metadata": {},
   "outputs": [
    {
     "name": "stdout",
     "output_type": "stream",
     "text": [
      "[10.         10.26315789 10.52631579 10.78947368 11.05263158 11.31578947\n",
      " 11.57894737 11.84210526 12.10526316 12.36842105 12.63157895 12.89473684\n",
      " 13.15789474 13.42105263 13.68421053 13.94736842 14.21052632 14.47368421\n",
      " 14.73684211 15.        ]\n"
     ]
    }
   ],
   "source": [
    "## Craeting an array of 20 sequential values between 10 and 15 \n",
    "array4 = np.linspace(10, 15, 20)\n",
    "print(array4)"
   ]
  },
  {
   "cell_type": "code",
   "execution_count": 41,
   "metadata": {},
   "outputs": [
    {
     "name": "stdout",
     "output_type": "stream",
     "text": [
      "array1:\n",
      "[[3. 5. 6. 8. 9.]\n",
      " [6. 7. 5. 4. 5.]\n",
      " [9. 7. 6. 4. 3.]]\n",
      "\n",
      "flattened array1:\n",
      "[3. 5. 6. 8. 9. 6. 7. 5. 4. 5. 9. 7. 6. 4. 3.]\n"
     ]
    }
   ],
   "source": [
    "## Flattening an Array\n",
    "print('array1:')\n",
    "print(array1)\n",
    "print('')\n",
    "print('flattened array1:')\n",
    "flat_array1=array1.flatten()\n",
    "print (flat_array1)"
   ]
  },
  {
   "cell_type": "code",
   "execution_count": 42,
   "metadata": {},
   "outputs": [
    {
     "name": "stdout",
     "output_type": "stream",
     "text": [
      "[[0.45936598 0.91907118 0.63192014 0.8292706  0.91521126 0.70234858]\n",
      " [0.34836339 0.62771229 0.75707281 0.71742966 0.73798311 0.8488235 ]\n",
      " [0.23953956 0.09332094 0.1856224  0.22623004 0.96046816 0.11974147]\n",
      " [0.93094115 0.65910806 0.78755929 0.46076193 0.95707432 0.77218989]]\n",
      "\n",
      "Reshaped array:\n",
      "[[[0.45936598 0.91907118 0.63192014 0.8292706  0.91521126 0.70234858]\n",
      "  [0.34836339 0.62771229 0.75707281 0.71742966 0.73798311 0.8488235 ]]\n",
      "\n",
      " [[0.23953956 0.09332094 0.1856224  0.22623004 0.96046816 0.11974147]\n",
      "  [0.93094115 0.65910806 0.78755929 0.46076193 0.95707432 0.77218989]]]\n"
     ]
    }
   ],
   "source": [
    "## Reshaping a 4X6 array to a 2X2X6\n",
    "array5=np.random.random((4,6))\n",
    "print (array5)\n",
    "print('')\n",
    "print('Reshaped array:')\n",
    "reshaped_array5=array5.reshape(2,2,6)\n",
    "print(reshaped_array5)"
   ]
  },
  {
   "cell_type": "code",
   "execution_count": 43,
   "metadata": {},
   "outputs": [
    {
     "name": "stdout",
     "output_type": "stream",
     "text": [
      "[[3. 5. 6. 8. 9.]\n",
      " [6. 7. 5. 4. 5.]\n",
      " [9. 7. 6. 4. 3.]]\n"
     ]
    }
   ],
   "source": [
    "print (array1)"
   ]
  },
  {
   "cell_type": "code",
   "execution_count": 44,
   "metadata": {},
   "outputs": [
    {
     "name": "stdout",
     "output_type": "stream",
     "text": [
      "[[ 5.  7.  8. 10. 11.]\n",
      " [ 8.  9.  7.  6.  7.]\n",
      " [11.  9.  8.  6.  5.]]\n"
     ]
    }
   ],
   "source": [
    "## Adding 2 to each element in array1\n",
    "print (array1 + 2)"
   ]
  },
  {
   "cell_type": "code",
   "execution_count": 45,
   "metadata": {},
   "outputs": [
    {
     "name": "stdout",
     "output_type": "stream",
     "text": [
      "[[1. 3. 4. 6. 7.]\n",
      " [4. 5. 3. 2. 3.]\n",
      " [7. 5. 4. 2. 1.]]\n"
     ]
    }
   ],
   "source": [
    "## Subtracting 2 to each element in array1\n",
    "print (array1 - 2)"
   ]
  },
  {
   "cell_type": "code",
   "execution_count": 46,
   "metadata": {},
   "outputs": [
    {
     "name": "stdout",
     "output_type": "stream",
     "text": [
      "[[ 6. 10. 12. 16. 18.]\n",
      " [12. 14. 10.  8. 10.]\n",
      " [18. 14. 12.  8.  6.]]\n"
     ]
    }
   ],
   "source": [
    "## Multiplying each element in array by 2\n",
    "print (array1 * 2)"
   ]
  },
  {
   "cell_type": "code",
   "execution_count": 47,
   "metadata": {},
   "outputs": [
    {
     "name": "stdout",
     "output_type": "stream",
     "text": [
      "[[1.5 2.5 3.  4.  4.5]\n",
      " [3.  3.5 2.5 2.  2.5]\n",
      " [4.5 3.5 3.  2.  1.5]]\n"
     ]
    }
   ],
   "source": [
    "## Dividing each element in array by 2\n",
    "print (array1/2)"
   ]
  },
  {
   "cell_type": "code",
   "execution_count": 48,
   "metadata": {},
   "outputs": [
    {
     "name": "stdout",
     "output_type": "stream",
     "text": [
      "[[ 9. 25. 36. 64. 81.]\n",
      " [36. 49. 25. 16. 25.]\n",
      " [81. 49. 36. 16.  9.]]\n"
     ]
    }
   ],
   "source": [
    "## Squaring each element in array:\n",
    "print (array1**2)"
   ]
  },
  {
   "cell_type": "code",
   "execution_count": 49,
   "metadata": {},
   "outputs": [
    {
     "name": "stdout",
     "output_type": "stream",
     "text": [
      "Original Array:\n",
      "[[3. 5. 6. 8. 9.]\n",
      " [6. 7. 5. 4. 5.]\n",
      " [9. 7. 6. 4. 3.]]\n",
      "\n",
      "Array1 Transposed\n",
      "[[3. 6. 9.]\n",
      " [5. 7. 7.]\n",
      " [6. 5. 6.]\n",
      " [8. 4. 4.]\n",
      " [9. 5. 3.]]\n"
     ]
    }
   ],
   "source": [
    "## Transposing an array\n",
    "print('Original Array:')\n",
    "print (array1)\n",
    "print('')\n",
    "print('Array1 Transposed')\n",
    "print(array1.T)"
   ]
  },
  {
   "cell_type": "code",
   "execution_count": 50,
   "metadata": {},
   "outputs": [
    {
     "data": {
      "text/plain": [
       "9.0"
      ]
     },
     "execution_count": 50,
     "metadata": {},
     "output_type": "execute_result"
    }
   ],
   "source": [
    "## The maximum function lists the largest element of the array as follows:\n",
    "array1.max()"
   ]
  },
  {
   "cell_type": "code",
   "execution_count": 51,
   "metadata": {},
   "outputs": [
    {
     "data": {
      "text/plain": [
       "array([9., 7., 9.], dtype=float16)"
      ]
     },
     "execution_count": 51,
     "metadata": {},
     "output_type": "execute_result"
    }
   ],
   "source": [
    "## Applying max function row-wise\n",
    "array1.max(axis=1)"
   ]
  },
  {
   "cell_type": "code",
   "execution_count": 52,
   "metadata": {},
   "outputs": [
    {
     "data": {
      "text/plain": [
       "array([9., 7., 6., 8., 9.], dtype=float16)"
      ]
     },
     "execution_count": 52,
     "metadata": {},
     "output_type": "execute_result"
    }
   ],
   "source": [
    "## Applying max function column-wise\n",
    "array1.max(axis=0)"
   ]
  },
  {
   "cell_type": "code",
   "execution_count": 53,
   "metadata": {},
   "outputs": [
    {
     "data": {
      "text/plain": [
       "3.0"
      ]
     },
     "execution_count": 53,
     "metadata": {},
     "output_type": "execute_result"
    }
   ],
   "source": [
    "## The minimum function lists the largest element of the array as follows:\n",
    "array1.min()"
   ]
  },
  {
   "cell_type": "code",
   "execution_count": 54,
   "metadata": {},
   "outputs": [
    {
     "data": {
      "text/plain": [
       "array([3., 4., 3.], dtype=float16)"
      ]
     },
     "execution_count": 54,
     "metadata": {},
     "output_type": "execute_result"
    }
   ],
   "source": [
    "## Applying min function row-wise\n",
    "array1.min(axis=1)"
   ]
  },
  {
   "cell_type": "code",
   "execution_count": 55,
   "metadata": {},
   "outputs": [
    {
     "data": {
      "text/plain": [
       "array([3., 5., 5., 4., 3.], dtype=float16)"
      ]
     },
     "execution_count": 55,
     "metadata": {},
     "output_type": "execute_result"
    }
   ],
   "source": [
    "## Applying min function column-wise\n",
    "array1.min(axis=0)"
   ]
  },
  {
   "cell_type": "code",
   "execution_count": 56,
   "metadata": {},
   "outputs": [
    {
     "data": {
      "text/plain": [
       "87.0"
      ]
     },
     "execution_count": 56,
     "metadata": {},
     "output_type": "execute_result"
    }
   ],
   "source": [
    "## Computing sum of all array elements\n",
    "array1.sum()"
   ]
  },
  {
   "cell_type": "code",
   "execution_count": 57,
   "metadata": {},
   "outputs": [
    {
     "data": {
      "text/plain": [
       "array([31., 27., 29.], dtype=float16)"
      ]
     },
     "execution_count": 57,
     "metadata": {},
     "output_type": "execute_result"
    }
   ],
   "source": [
    "## Computing sum of all array elements row-wise\n",
    "array1.sum(axis=1)"
   ]
  },
  {
   "cell_type": "code",
   "execution_count": 58,
   "metadata": {},
   "outputs": [
    {
     "data": {
      "text/plain": [
       "array([18., 19., 17., 16., 17.], dtype=float16)"
      ]
     },
     "execution_count": 58,
     "metadata": {},
     "output_type": "execute_result"
    }
   ],
   "source": [
    "## Computing sum of all array elements column-wise\n",
    "array1.sum(axis=0)"
   ]
  },
  {
   "cell_type": "code",
   "execution_count": 59,
   "metadata": {},
   "outputs": [
    {
     "data": {
      "text/plain": [
       "array([[1.732, 2.236, 2.45 , 2.828, 3.   ],\n",
       "       [2.45 , 2.646, 2.236, 2.   , 2.236],\n",
       "       [3.   , 2.646, 2.45 , 2.   , 1.732]], dtype=float16)"
      ]
     },
     "execution_count": 59,
     "metadata": {},
     "output_type": "execute_result"
    }
   ],
   "source": [
    "np.sqrt(array1)"
   ]
  },
  {
   "cell_type": "code",
   "execution_count": 60,
   "metadata": {},
   "outputs": [
    {
     "data": {
      "text/plain": [
       "array([[ 0.1411, -0.959 , -0.2793,  0.9893,  0.412 ],\n",
       "       [-0.2793,  0.657 , -0.959 , -0.757 , -0.959 ],\n",
       "       [ 0.412 ,  0.657 , -0.2793, -0.757 ,  0.1411]], dtype=float16)"
      ]
     },
     "execution_count": 60,
     "metadata": {},
     "output_type": "execute_result"
    }
   ],
   "source": [
    "np.sin(array1)"
   ]
  },
  {
   "cell_type": "code",
   "execution_count": 61,
   "metadata": {},
   "outputs": [
    {
     "data": {
      "text/plain": [
       "array([[-0.99  ,  0.2837,  0.96  , -0.1455, -0.911 ],\n",
       "       [ 0.96  ,  0.754 ,  0.2837, -0.654 ,  0.2837],\n",
       "       [-0.911 ,  0.754 ,  0.96  , -0.654 , -0.99  ]], dtype=float16)"
      ]
     },
     "execution_count": 61,
     "metadata": {},
     "output_type": "execute_result"
    }
   ],
   "source": [
    "np.cos(array1)"
   ]
  },
  {
   "cell_type": "code",
   "execution_count": 62,
   "metadata": {},
   "outputs": [
    {
     "name": "stdout",
     "output_type": "stream",
     "text": [
      "Array1:\n",
      "[[3. 5. 6. 8. 9.]\n",
      " [6. 7. 5. 4. 5.]\n",
      " [9. 7. 6. 4. 3.]]\n",
      "\n",
      "Array1 Simple Sort:\n"
     ]
    },
    {
     "data": {
      "text/plain": [
       "array([3., 3., 4., 4., 5., 5., 5., 6., 6., 6., 7., 7., 8., 9., 9.],\n",
       "      dtype=float16)"
      ]
     },
     "execution_count": 62,
     "metadata": {},
     "output_type": "execute_result"
    }
   ],
   "source": [
    "## Sorting regardless of dimensions and structure/flattened list of array elements\n",
    "print ('Array1:')\n",
    "print (array1)\n",
    "print('')\n",
    "print('Array1 Simple Sort:')\n",
    "np.sort(array1, axis=None)"
   ]
  },
  {
   "cell_type": "code",
   "execution_count": 63,
   "metadata": {},
   "outputs": [
    {
     "name": "stdout",
     "output_type": "stream",
     "text": [
      "Array1:\n",
      "[[3. 5. 6. 8. 9.]\n",
      " [6. 7. 5. 4. 5.]\n",
      " [9. 7. 6. 4. 3.]]\n",
      "\n",
      "Array1 Simple Sort:\n"
     ]
    },
    {
     "data": {
      "text/plain": [
       "array([[3., 5., 6., 8., 9.],\n",
       "       [4., 5., 5., 6., 7.],\n",
       "       [3., 4., 6., 7., 9.]], dtype=float16)"
      ]
     },
     "execution_count": 63,
     "metadata": {},
     "output_type": "execute_result"
    }
   ],
   "source": [
    "## Sorting along the row of arrays, Python will sort by row by default if no axis is specified:\n",
    "print ('Array1:')\n",
    "print (array1)\n",
    "print('')\n",
    "print('Array1 Simple Sort:')\n",
    "np.sort(array1)"
   ]
  },
  {
   "cell_type": "code",
   "execution_count": 64,
   "metadata": {},
   "outputs": [
    {
     "name": "stdout",
     "output_type": "stream",
     "text": [
      "Array1:\n",
      "[[3. 5. 6. 8. 9.]\n",
      " [6. 7. 5. 4. 5.]\n",
      " [9. 7. 6. 4. 3.]]\n",
      "\n",
      "Array1 Simple Sort:\n"
     ]
    },
    {
     "data": {
      "text/plain": [
       "array([[3., 5., 6., 8., 9.],\n",
       "       [4., 5., 5., 6., 7.],\n",
       "       [3., 4., 6., 7., 9.]], dtype=float16)"
      ]
     },
     "execution_count": 64,
     "metadata": {},
     "output_type": "execute_result"
    }
   ],
   "source": [
    "## The same result can also be obtained by specifying the row axis as follows:\n",
    "print ('Array1:')\n",
    "print (array1)\n",
    "print('')\n",
    "print('Array1 Simple Sort:')\n",
    "np.sort(array1, axis=1)"
   ]
  },
  {
   "cell_type": "code",
   "execution_count": 65,
   "metadata": {},
   "outputs": [
    {
     "name": "stdout",
     "output_type": "stream",
     "text": [
      "Array1:\n",
      "[[3. 5. 6. 8. 9.]\n",
      " [6. 7. 5. 4. 5.]\n",
      " [9. 7. 6. 4. 3.]]\n",
      "\n",
      "Array1 Simple Sort:\n"
     ]
    },
    {
     "data": {
      "text/plain": [
       "array([[3., 5., 5., 4., 3.],\n",
       "       [6., 7., 6., 4., 5.],\n",
       "       [9., 7., 6., 8., 9.]], dtype=float16)"
      ]
     },
     "execution_count": 65,
     "metadata": {},
     "output_type": "execute_result"
    }
   ],
   "source": [
    "## Sorting an array by column/column-wise:\n",
    "print ('Array1:')\n",
    "print (array1)\n",
    "print('')\n",
    "print('Array1 Simple Sort:')\n",
    "np.sort(array1, axis=0)"
   ]
  },
  {
   "cell_type": "code",
   "execution_count": 66,
   "metadata": {},
   "outputs": [
    {
     "name": "stdout",
     "output_type": "stream",
     "text": [
      "[9. 7. 6. 4. 3.]\n"
     ]
    }
   ],
   "source": [
    "##Slicing elements from 3rd row\n",
    "print(array1[2,...])"
   ]
  },
  {
   "cell_type": "code",
   "execution_count": 67,
   "metadata": {},
   "outputs": [
    {
     "name": "stdout",
     "output_type": "stream",
     "text": [
      "[[3. 5. 6. 8. 9.]\n",
      " [6. 7. 5. 4. 5.]\n",
      " [9. 7. 6. 4. 3.]]\n"
     ]
    }
   ],
   "source": [
    "print (array1)"
   ]
  },
  {
   "cell_type": "code",
   "execution_count": 68,
   "metadata": {},
   "outputs": [
    {
     "name": "stdout",
     "output_type": "stream",
     "text": [
      "[3. 5. 6. 8. 9.]\n"
     ]
    }
   ],
   "source": [
    "##Slicing elements from 0 row\n",
    "print(array1[0,...])"
   ]
  },
  {
   "cell_type": "code",
   "execution_count": 69,
   "metadata": {},
   "outputs": [
    {
     "name": "stdout",
     "output_type": "stream",
     "text": [
      "[6. 7. 5. 4. 5.]\n"
     ]
    }
   ],
   "source": [
    "##Slicing elements from second row\n",
    "print(array1[1,...])"
   ]
  },
  {
   "cell_type": "code",
   "execution_count": 70,
   "metadata": {},
   "outputs": [
    {
     "name": "stdout",
     "output_type": "stream",
     "text": [
      "[[6. 7. 5. 4. 5.]\n",
      " [9. 7. 6. 4. 3.]]\n"
     ]
    }
   ],
   "source": [
    "## obtaining the elements from the second row onward is done as follows:\n",
    "print(array1[1:,...])"
   ]
  },
  {
   "cell_type": "code",
   "execution_count": 71,
   "metadata": {},
   "outputs": [
    {
     "name": "stdout",
     "output_type": "stream",
     "text": [
      "[[3. 5. 6. 8. 9.]\n",
      " [6. 7. 5. 4. 5.]]\n"
     ]
    }
   ],
   "source": [
    "## obtaining the elements from of first 2 rows:\n",
    "print(array1[:2,...])"
   ]
  },
  {
   "cell_type": "code",
   "execution_count": 72,
   "metadata": {},
   "outputs": [
    {
     "name": "stdout",
     "output_type": "stream",
     "text": [
      "[6. 5. 6.]\n"
     ]
    }
   ],
   "source": [
    "## Slicing elements of 3rd column example:\n",
    "print(array1[...,2])"
   ]
  },
  {
   "cell_type": "code",
   "execution_count": 73,
   "metadata": {},
   "outputs": [
    {
     "name": "stdout",
     "output_type": "stream",
     "text": [
      "[3. 6. 9.]\n"
     ]
    }
   ],
   "source": [
    "## Slicing elements of first column example:\n",
    "print(array1[...,0])"
   ]
  },
  {
   "cell_type": "code",
   "execution_count": 74,
   "metadata": {},
   "outputs": [
    {
     "name": "stdout",
     "output_type": "stream",
     "text": [
      "[5. 7. 7.]\n"
     ]
    }
   ],
   "source": [
    "## Slicing elements of second column example:\n",
    "print(array1[...,1])"
   ]
  },
  {
   "cell_type": "code",
   "execution_count": 75,
   "metadata": {},
   "outputs": [
    {
     "name": "stdout",
     "output_type": "stream",
     "text": [
      "[[5. 6. 8. 9.]\n",
      " [7. 5. 4. 5.]\n",
      " [7. 6. 4. 3.]]\n"
     ]
    }
   ],
   "source": [
    "## obtaining the elements from the second column onwards is done as follows:\n",
    "print(array1[...,1:])"
   ]
  },
  {
   "cell_type": "code",
   "execution_count": 76,
   "metadata": {},
   "outputs": [
    {
     "name": "stdout",
     "output_type": "stream",
     "text": [
      "[[3. 5. 6.]\n",
      " [6. 7. 5.]\n",
      " [9. 7. 6.]]\n"
     ]
    }
   ],
   "source": [
    "##obtaining elements of first three columns:\n",
    "print(array1[...,:3])"
   ]
  },
  {
   "cell_type": "code",
   "execution_count": 77,
   "metadata": {},
   "outputs": [
    {
     "name": "stdout",
     "output_type": "stream",
     "text": [
      "Array1:\n",
      "[[3. 5. 6. 8. 9.]\n",
      " [6. 7. 5. 4. 5.]\n",
      " [9. 7. 6. 4. 3.]]\n",
      "\n",
      "Element sliced from first row and second column:\n",
      "5.0\n"
     ]
    }
   ],
   "source": [
    "##Slice element from first row and second column:\n",
    "print ('Array1:')\n",
    "print (array1)\n",
    "print('')\n",
    "print('Element sliced from first row and second column:')\n",
    "print(array1[0,1])"
   ]
  },
  {
   "cell_type": "code",
   "execution_count": 78,
   "metadata": {},
   "outputs": [
    {
     "name": "stdout",
     "output_type": "stream",
     "text": [
      "Array1:\n",
      "[[3. 5. 6. 8. 9.]\n",
      " [6. 7. 5. 4. 5.]\n",
      " [9. 7. 6. 4. 3.]]\n",
      "\n",
      "Element sliced from third row and fourth column:\n",
      "4.0\n"
     ]
    }
   ],
   "source": [
    "##Slice element from third row and fourth column:\n",
    "print ('Array1:')\n",
    "print (array1)\n",
    "print('')\n",
    "print('Element sliced from third row and fourth column:')\n",
    "print(array1[2,3])"
   ]
  },
  {
   "cell_type": "code",
   "execution_count": 79,
   "metadata": {},
   "outputs": [
    {
     "name": "stdout",
     "output_type": "stream",
     "text": [
      "[[5 5 8 8 9 8]\n",
      " [7 7 5 3 5 7]\n",
      " [8 7 8 4 2 6]\n",
      " [9 9 7 3 1 4]]\n"
     ]
    }
   ],
   "source": [
    "array_hw=np.array([[5,5,8,8,9,8],[7,7,5,3,5,7],[8,7,8,4,2,6],[9,9,7,3,1,4]])\n",
    "print(array_hw)"
   ]
  },
  {
   "cell_type": "code",
   "execution_count": 80,
   "metadata": {},
   "outputs": [
    {
     "name": "stdout",
     "output_type": "stream",
     "text": [
      "array_hw:\n",
      "[[5 5 8 8 9 8]\n",
      " [7 7 5 3 5 7]\n",
      " [8 7 8 4 2 6]\n",
      " [9 9 7 3 1 4]]\n",
      "\n",
      "array_hw Simple Sort:\n"
     ]
    },
    {
     "data": {
      "text/plain": [
       "array([1, 2, 3, 3, 4, 4, 5, 5, 5, 5, 6, 7, 7, 7, 7, 7, 8, 8, 8, 8, 8, 9,\n",
       "       9, 9])"
      ]
     },
     "execution_count": 80,
     "metadata": {},
     "output_type": "execute_result"
    }
   ],
   "source": [
    "## Sorting regardless of dimensions and structure/flattened list of array elements\n",
    "print ('array_hw:')\n",
    "print (array_hw)\n",
    "print('')\n",
    "print('array_hw Simple Sort:')\n",
    "np.sort(array_hw, axis=None)"
   ]
  },
  {
   "cell_type": "code",
   "execution_count": 105,
   "metadata": {},
   "outputs": [
    {
     "data": {
      "text/plain": [
       "array([[5, 5, 8, 8, 9, 8],\n",
       "       [7, 7, 5, 3, 5, 7],\n",
       "       [8, 7, 8, 4, 2, 6],\n",
       "       [9, 9, 7, 3, 1, 4]])"
      ]
     },
     "execution_count": 105,
     "metadata": {},
     "output_type": "execute_result"
    }
   ],
   "source": [
    "array_hw=np.array([[5,5,8,8,9,8],[7,7,5,3,5,7],[8,7,8,4,2,6],[9,9,7,3,1,4]])\n",
    "array_hw[array_hw[:,1].argsort()]"
   ]
  },
  {
   "cell_type": "code",
   "execution_count": 111,
   "metadata": {
    "scrolled": true
   },
   "outputs": [
    {
     "data": {
      "text/plain": [
       "array([[9, 8, 8, 5, 5, 8],\n",
       "       [5, 3, 7, 7, 7, 5],\n",
       "       [2, 4, 6, 7, 8, 8],\n",
       "       [1, 3, 4, 9, 9, 7]])"
      ]
     },
     "execution_count": 111,
     "metadata": {},
     "output_type": "execute_result"
    }
   ],
   "source": [
    "array_hw[:, array_hw[2].argsort()]\n",
    "#print(array_hw)"
   ]
  },
  {
   "cell_type": "code",
   "execution_count": 112,
   "metadata": {},
   "outputs": [
    {
     "data": {
      "text/plain": [
       "array([7, 7, 5, 3, 5, 7])"
      ]
     },
     "execution_count": 112,
     "metadata": {},
     "output_type": "execute_result"
    }
   ],
   "source": [
    "array_hw[1,:]"
   ]
  },
  {
   "cell_type": "code",
   "execution_count": 113,
   "metadata": {},
   "outputs": [
    {
     "data": {
      "text/plain": [
       "array([8, 5, 8, 7])"
      ]
     },
     "execution_count": 113,
     "metadata": {},
     "output_type": "execute_result"
    }
   ],
   "source": [
    "array_hw[:,2]"
   ]
  },
  {
   "cell_type": "code",
   "execution_count": 115,
   "metadata": {},
   "outputs": [
    {
     "data": {
      "text/plain": [
       "array([[2.23606798, 2.23606798, 2.82842712, 2.82842712, 3.        ,\n",
       "        2.82842712],\n",
       "       [2.64575131, 2.64575131, 2.23606798, 1.73205081, 2.23606798,\n",
       "        2.64575131],\n",
       "       [2.82842712, 2.64575131, 2.82842712, 2.        , 1.41421356,\n",
       "        2.44948974],\n",
       "       [3.        , 3.        , 2.64575131, 1.73205081, 1.        ,\n",
       "        2.        ]])"
      ]
     },
     "execution_count": 115,
     "metadata": {},
     "output_type": "execute_result"
    }
   ],
   "source": [
    "np.sqrt(array_hw)"
   ]
  },
  {
   "cell_type": "code",
   "execution_count": 118,
   "metadata": {},
   "outputs": [
    {
     "name": "stdout",
     "output_type": "stream",
     "text": [
      "4\n"
     ]
    }
   ],
   "source": [
    "print(array_hw[2,...,3])"
   ]
  },
  {
   "cell_type": "code",
   "execution_count": 119,
   "metadata": {},
   "outputs": [
    {
     "data": {
      "text/plain": [
       "145"
      ]
     },
     "execution_count": 119,
     "metadata": {},
     "output_type": "execute_result"
    }
   ],
   "source": [
    "array_hw.sum()"
   ]
  },
  {
   "cell_type": "code",
   "execution_count": 120,
   "metadata": {},
   "outputs": [
    {
     "data": {
      "text/plain": [
       "2"
      ]
     },
     "execution_count": 120,
     "metadata": {},
     "output_type": "execute_result"
    }
   ],
   "source": [
    "array_hw.ndim"
   ]
  },
  {
   "cell_type": "code",
   "execution_count": 121,
   "metadata": {},
   "outputs": [
    {
     "data": {
      "text/plain": [
       "dtype('int32')"
      ]
     },
     "execution_count": 121,
     "metadata": {},
     "output_type": "execute_result"
    }
   ],
   "source": [
    "array_hw.dtype"
   ]
  },
  {
   "cell_type": "code",
   "execution_count": 122,
   "metadata": {},
   "outputs": [
    {
     "data": {
      "text/plain": [
       "96"
      ]
     },
     "execution_count": 122,
     "metadata": {},
     "output_type": "execute_result"
    }
   ],
   "source": [
    "array_hw.nbytes "
   ]
  },
  {
   "cell_type": "code",
   "execution_count": null,
   "metadata": {},
   "outputs": [],
   "source": []
  }
 ],
 "metadata": {
  "kernelspec": {
   "display_name": "Python 3",
   "language": "python",
   "name": "python3"
  },
  "language_info": {
   "codemirror_mode": {
    "name": "ipython",
    "version": 3
   },
   "file_extension": ".py",
   "mimetype": "text/x-python",
   "name": "python",
   "nbconvert_exporter": "python",
   "pygments_lexer": "ipython3",
   "version": "3.7.5"
  }
 },
 "nbformat": 4,
 "nbformat_minor": 2
}
