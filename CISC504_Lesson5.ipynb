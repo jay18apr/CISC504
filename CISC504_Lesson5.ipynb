{
 "cells": [
  {
   "cell_type": "code",
   "execution_count": null,
   "metadata": {},
   "outputs": [],
   "source": [
    "from mobilechelonian import Turtle\n",
    "t = Turtle()\n",
    "t.speed(5)\n",
    "colours=[\"red\",\"blue\",\"yellow\",\"brown\",\"black\",\"purple\",\"green\"]\n",
    "\n",
    "t.penup(); t.left(90); t.forward(200);t.right(90);t.pendown()\n",
    "for i in range (0,18):\n",
    "    t.pencolor(colours[i%7])\n",
    "    t.right(20)\n",
    "    t.forward(50)\n",
    "\n",
    "t.right(180)\n",
    "t.home()"
   ]
  },
  {
   "cell_type": "code",
   "execution_count": 3,
   "metadata": {},
   "outputs": [],
   "source": [
    "from turtle import Turtle\n",
    "t=Turtle()\n",
    "t.fd(300)"
   ]
  },
  {
   "cell_type": "code",
   "execution_count": 2,
   "metadata": {},
   "outputs": [
    {
     "data": {
      "application/vnd.jupyter.widget-view+json": {
       "model_id": "c9c38deb45454eb1ae859d700554d43b",
       "version_major": 2,
       "version_minor": 0
      },
      "text/plain": [
       "Turtle()"
      ]
     },
     "metadata": {},
     "output_type": "display_data"
    }
   ],
   "source": [
    "from mobilechelonian import Turtle\n",
    "t = Turtle()\n",
    "t.speed(3)\n",
    "t.forward(180)\n",
    "t.home()"
   ]
  },
  {
   "cell_type": "code",
   "execution_count": 3,
   "metadata": {},
   "outputs": [
    {
     "data": {
      "application/vnd.jupyter.widget-view+json": {
       "model_id": "bc44bab634f74e5f94f0bd4ea8a595b7",
       "version_major": 2,
       "version_minor": 0
      },
      "text/plain": [
       "Turtle()"
      ]
     },
     "metadata": {},
     "output_type": "display_data"
    }
   ],
   "source": [
    "from mobilechelonian import Turtle\n",
    "t=Turtle()\n",
    "t.forward(150)\n",
    "t.left(90)\n",
    "t.forward(150)\n",
    "t.left(90)\n",
    "t.forward(150)\n",
    "t.left(90)\n",
    "t.forward(150)\n",
    "t.home()"
   ]
  },
  {
   "cell_type": "code",
   "execution_count": 4,
   "metadata": {},
   "outputs": [
    {
     "data": {
      "application/vnd.jupyter.widget-view+json": {
       "model_id": "f400cbbf3a984a92a58db566ae06b977",
       "version_major": 2,
       "version_minor": 0
      },
      "text/plain": [
       "Turtle()"
      ]
     },
     "metadata": {},
     "output_type": "display_data"
    }
   ],
   "source": [
    "t=Turtle()\n",
    "t.forward(150)\n",
    "t.right(90)\n",
    "t.forward(150)\n",
    "t.right(90)\n",
    "t.forward(150)\n",
    "t.right(90)\n",
    "t.forward(150)\n",
    "t.home()"
   ]
  },
  {
   "cell_type": "code",
   "execution_count": 7,
   "metadata": {},
   "outputs": [
    {
     "data": {
      "application/vnd.jupyter.widget-view+json": {
       "model_id": "a71aa74ee6bb452b9e56106308353110",
       "version_major": 2,
       "version_minor": 0
      },
      "text/plain": [
       "Turtle()"
      ]
     },
     "metadata": {},
     "output_type": "display_data"
    }
   ],
   "source": [
    "from mobilechelonian import Turtle\n",
    "t=Turtle()\n",
    "for i in range(0,4):\n",
    "    t.forward(150)\n",
    "    t.right(90)\n",
    "t.home()"
   ]
  },
  {
   "cell_type": "code",
   "execution_count": 8,
   "metadata": {},
   "outputs": [
    {
     "data": {
      "application/vnd.jupyter.widget-view+json": {
       "model_id": "c295e4f050154e62969febbfc4d4e1c8",
       "version_major": 2,
       "version_minor": 0
      },
      "text/plain": [
       "Turtle()"
      ]
     },
     "metadata": {},
     "output_type": "display_data"
    }
   ],
   "source": [
    "from mobilechelonian import Turtle\n",
    "t=Turtle()\n",
    "\n",
    "def square_object(length):\n",
    "    for i in range(0,4):\n",
    "        t.forward(length)\n",
    "        t.right(90)\n",
    "        \n",
    "square_object(150)\n",
    "t.home()"
   ]
  },
  {
   "cell_type": "code",
   "execution_count": 9,
   "metadata": {
    "scrolled": true
   },
   "outputs": [
    {
     "data": {
      "application/vnd.jupyter.widget-view+json": {
       "model_id": "3b27b4b4d20d444091b4644ac304f1e1",
       "version_major": 2,
       "version_minor": 0
      },
      "text/plain": [
       "Turtle()"
      ]
     },
     "metadata": {},
     "output_type": "display_data"
    }
   ],
   "source": [
    "from mobilechelonian import Turtle\n",
    "t=Turtle()\n",
    "\n",
    "square_object(50)\n",
    "\n",
    "t.home()"
   ]
  },
  {
   "cell_type": "code",
   "execution_count": 10,
   "metadata": {},
   "outputs": [
    {
     "data": {
      "application/vnd.jupyter.widget-view+json": {
       "model_id": "7afceaf4e54142d88cdf2efce65d4283",
       "version_major": 2,
       "version_minor": 0
      },
      "text/plain": [
       "Turtle()"
      ]
     },
     "metadata": {},
     "output_type": "display_data"
    }
   ],
   "source": [
    "from mobilechelonian import Turtle\n",
    "t=Turtle()\n",
    "t.speed(40)\n",
    "\n",
    "for length in range(50,100):\n",
    "    square_object(length)\n",
    "    \n",
    "t.home()"
   ]
  },
  {
   "cell_type": "code",
   "execution_count": 11,
   "metadata": {},
   "outputs": [
    {
     "data": {
      "application/vnd.jupyter.widget-view+json": {
       "model_id": "f07d8cb234f047729b2c836ea09f8056",
       "version_major": 2,
       "version_minor": 0
      },
      "text/plain": [
       "Turtle()"
      ]
     },
     "metadata": {},
     "output_type": "display_data"
    }
   ],
   "source": [
    "from mobilechelonian import Turtle\n",
    "t=Turtle()\n",
    "def rectangle_object(length,width):\n",
    "    for i in range(2):\n",
    "        t.forward(width)\n",
    "        t.right(90)\n",
    "        t.forward(length)\n",
    "        t.right(90)\n",
    "rectangle_object(length=100,width=50)\n",
    "t.home()"
   ]
  },
  {
   "cell_type": "code",
   "execution_count": null,
   "metadata": {},
   "outputs": [],
   "source": [
    "from mobilechelonian import Turtle\n",
    "t=Turtle()\n",
    "def rectangle_object(length,width):\n",
    "    for i in range(2):\n",
    "        t.forward(width)\n",
    "        t.right(90)\n",
    "        t.forward(length)\n",
    "        t.right(90)\n",
    "rectangle_object(length=100,width=50)\n",
    "\n",
    "\n",
    "t.left(90)\n",
    "t.forward(100)\n",
    "t.left(90)\n",
    "t.forward(50)\n",
    "t.left(90)\n",
    "t.forward(200)\n",
    "t.left(90)\n",
    "t.forward(50)\n",
    "t.home()"
   ]
  },
  {
   "cell_type": "code",
   "execution_count": 13,
   "metadata": {},
   "outputs": [
    {
     "data": {
      "application/vnd.jupyter.widget-view+json": {
       "model_id": "86dbffc282bc47248063709e3349736e",
       "version_major": 2,
       "version_minor": 0
      },
      "text/plain": [
       "Turtle()"
      ]
     },
     "metadata": {},
     "output_type": "display_data"
    }
   ],
   "source": [
    "from mobilechelonian import Turtle\n",
    "t=Turtle()\n",
    "t.forward(100)\n",
    "t.right(90)\n",
    "t.forward(100)\n",
    "t.right(45)\n",
    "t.home()"
   ]
  },
  {
   "cell_type": "code",
   "execution_count": 14,
   "metadata": {},
   "outputs": [
    {
     "data": {
      "application/vnd.jupyter.widget-view+json": {
       "model_id": "541a08f2867a477bb43421592d7be4e1",
       "version_major": 2,
       "version_minor": 0
      },
      "text/plain": [
       "Turtle()"
      ]
     },
     "metadata": {},
     "output_type": "display_data"
    }
   ],
   "source": [
    "from mobilechelonian import Turtle\n",
    "t=Turtle()\n",
    "t.circle(50,360)\n",
    "t.home()"
   ]
  },
  {
   "cell_type": "code",
   "execution_count": null,
   "metadata": {},
   "outputs": [],
   "source": [
    "from mobilechelonian import Turtle\n",
    "t=Turtle()\n",
    "t.circle(50,180)\n",
    "t.home()"
   ]
  },
  {
   "cell_type": "code",
   "execution_count": 16,
   "metadata": {},
   "outputs": [
    {
     "data": {
      "application/vnd.jupyter.widget-view+json": {
       "model_id": "036691a945f44c55b59e988c3695f4d0",
       "version_major": 2,
       "version_minor": 0
      },
      "text/plain": [
       "Turtle()"
      ]
     },
     "metadata": {},
     "output_type": "display_data"
    }
   ],
   "source": [
    "from mobilechelonian import Turtle\n",
    "t=Turtle()\n",
    "def circle_object(radius,angle):\n",
    "    t.circle(radius,angle)\n",
    "circle_object(25,360)\n",
    "t.home()"
   ]
  },
  {
   "cell_type": "code",
   "execution_count": null,
   "metadata": {},
   "outputs": [
    {
     "data": {
      "application/vnd.jupyter.widget-view+json": {
       "model_id": "7e35f6b0a3154a978d42268acc21309f",
       "version_major": 2,
       "version_minor": 0
      },
      "text/plain": [
       "Turtle()"
      ]
     },
     "metadata": {},
     "output_type": "display_data"
    }
   ],
   "source": [
    "from mobilechelonian import Turtle\n",
    "t=Turtle()\n",
    "t.speed(1000)\n",
    "\n",
    "for radius in range(25,50,2):\n",
    "    circle_object(radius,360)\n",
    "    \n",
    "t.home()"
   ]
  },
  {
   "cell_type": "code",
   "execution_count": null,
   "metadata": {},
   "outputs": [],
   "source": [
    "from mobilechelonian import Turtle\n",
    "t=Turtle()\n",
    "t.speed(100)\n",
    "\n",
    "for radius in range(50,100,3):\n",
    "    circle_object(radius,360)\n",
    "    \n",
    "t.home()"
   ]
  },
  {
   "cell_type": "code",
   "execution_count": null,
   "metadata": {},
   "outputs": [],
   "source": [
    "from mobilechelonian import Turtle\n",
    "t=Turtle()\n",
    "t.speed(100)\n",
    "\n",
    "for radius in range(50,100,3):\n",
    "    circle_object(radius,360)\n",
    "    t.right(45)\n",
    "    \n",
    "t.home()"
   ]
  },
  {
   "cell_type": "code",
   "execution_count": 27,
   "metadata": {
    "scrolled": true
   },
   "outputs": [
    {
     "data": {
      "application/vnd.jupyter.widget-view+json": {
       "model_id": "e6838f32c16948d692968fad65a275b2",
       "version_major": 2,
       "version_minor": 0
      },
      "text/plain": [
       "Turtle()"
      ]
     },
     "metadata": {},
     "output_type": "display_data"
    }
   ],
   "source": [
    "from mobilechelonian import Turtle\n",
    "t=Turtle()\n",
    "\n",
    "def draw_torso():\n",
    "    \"\"\"Draw the main torso\"\"\"\n",
    "    t.pencolor('blue')\n",
    "    t.right(90)\n",
    "    t.pendown()\n",
    "    t.forward(100)\n",
    "    t.penup()\n",
    "    t.backward(100)\n",
    "    t.left(90)\n",
    "\n",
    "def draw_legs():\n",
    "    \"\"\"Draw the legs\"\"\"\n",
    "    t.pencolor('green')\n",
    "    t.right(90)\n",
    "    t.forward(100)\n",
    "    t.right(45)\n",
    "    t.pendown()\n",
    "    t.forward(30)\n",
    "    t.backward(30)\n",
    "    t.left(90)\n",
    "    t.forward(30)\n",
    "    t.backward(30)\n",
    "    t.right(45)\n",
    "    t.penup()\n",
    "    t.backward(100)\n",
    "    t.left(90)\n",
    "\n",
    "def draw_arms():\n",
    "    \"\"\"Draw the arms\"\"\"\n",
    "    t.pencolor('yellow')\n",
    "    t.right(90)\n",
    "    t.forward(30)\n",
    "    t.left(90)\n",
    "    t.pendown()\n",
    "    t.forward(30)\n",
    "    t.backward(30)\n",
    "    t.left(180)\n",
    "    t.forward(30)\n",
    "    t.backward(30)\n",
    "    t.left(90)\n",
    "    t.penup()\n",
    "    t.backward(30)\n",
    "    t.left(90)\n",
    "\n",
    "def draw_head():\n",
    "    \"\"\"Draw the head\"\"\"\n",
    "    t.pencolor('purple')\n",
    "    t.pendown()\n",
    "    t.circle(25,360)\n",
    "    t.penup()\n",
    "\n",
    "def draw_stick_figure():\n",
    "    \"\"\"Draw a complete single stick figure\"\"\"\n",
    "    draw_torso()            # task 1 - draw the torso\n",
    "    draw_legs()             # task 2 - draw the legs\n",
    "    draw_arms()             # task 3 - draw the arms\n",
    "    draw_head()             # task 4 - draw the head\n",
    "\n",
    "def main():\n",
    "    \"\"\"Draw the two stick figures, side by side\"\"\"\n",
    "    \n",
    "    draw_stick_figure()     # left stick figure\n",
    "    t.forward(100)\n",
    "    draw_stick_figure()     # right stick figure\n",
    "\n",
    "main()\n",
    "t.home()"
   ]
  },
  {
   "cell_type": "code",
   "execution_count": null,
   "metadata": {},
   "outputs": [],
   "source": []
  }
 ],
 "metadata": {
  "kernelspec": {
   "display_name": "Python 3",
   "language": "python",
   "name": "python3"
  },
  "language_info": {
   "codemirror_mode": {
    "name": "ipython",
    "version": 3
   },
   "file_extension": ".py",
   "mimetype": "text/x-python",
   "name": "python",
   "nbconvert_exporter": "python",
   "pygments_lexer": "ipython3",
   "version": "3.7.5"
  }
 },
 "nbformat": 4,
 "nbformat_minor": 2
}
