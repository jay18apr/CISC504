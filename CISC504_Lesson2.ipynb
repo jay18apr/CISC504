{
 "cells": [
  {
   "cell_type": "code",
   "execution_count": 1,
   "metadata": {},
   "outputs": [
    {
     "name": "stdout",
     "output_type": "stream",
     "text": [
      "What is the Celsius temperature? 25\n",
      "The temperature is 77.0 degrees Fahrenheit.\n"
     ]
    }
   ],
   "source": [
    "def main():\n",
    "    celsius = eval(input(\"What is the Celsius temperature? \"))\n",
    "    fahrenheit = 9/5 * celsius + 32\n",
    "    print(\"The temperature is\", fahrenheit, \"degrees Fahrenheit.\")\n",
    "\n",
    "main()"
   ]
  },
  {
   "cell_type": "code",
   "execution_count": 2,
   "metadata": {},
   "outputs": [
    {
     "name": "stdout",
     "output_type": "stream",
     "text": [
      "This program computes the average of two exam scores.\n",
      "Enter two scores separated by a comma: 23,30\n",
      "The average of the scores is: 26.5\n"
     ]
    }
   ],
   "source": [
    "def main():\n",
    "    print(\"This program computes the average of two exam scores.\")\n",
    "\n",
    "    score1, score2 = eval(input(\"Enter two scores separated by a comma: \"))\n",
    "    average = (score1 + score2) / 2\n",
    "\n",
    "    print(\"The average of the scores is:\", average)\n",
    "\n",
    "main()"
   ]
  },
  {
   "cell_type": "code",
   "execution_count": 1,
   "metadata": {},
   "outputs": [
    {
     "name": "stdout",
     "output_type": "stream",
     "text": [
      "This program calculates the future value\n",
      "of a 10-year investment.\n",
      "Enter the initial principal: 1000\n",
      "Enter the annual interest rate: 2\n",
      "The value in 10 years is: 59049000\n"
     ]
    }
   ],
   "source": [
    "def main():\n",
    "    print(\"This program calculates the future value\")\n",
    "    print(\"of a 10-year investment.\")\n",
    "\n",
    "    principal = eval(input(\"Enter the initial principal: \"))\n",
    "    apr = eval(input(\"Enter the annual interest rate: \"))\n",
    "\n",
    "    for i in range(10):\n",
    "        principal = principal * (1 + apr)\n",
    "\n",
    "    print(\"The value in 10 years is:\", principal)\n",
    "\n",
    "main()"
   ]
  },
  {
   "cell_type": "code",
   "execution_count": 4,
   "metadata": {},
   "outputs": [
    {
     "name": "stdout",
     "output_type": "stream",
     "text": [
      "Python program for the conversion\n",
      "kmph to mph and vice versa\n",
      "Enter speed in miles / hr is: 100\n",
      "Enter speed in km / hr is: 100\n",
      "speed in miles / hr is  62.13999999999999\n",
      "speed in km / hr is  160.934\n"
     ]
    }
   ],
   "source": [
    "# Python program for the conversion \n",
    "# kmph to mph and vice versa \n",
    "  \n",
    "# Function to convert kmph to mph \n",
    "def kmphTOmph(kmph): \n",
    "    mph = 0.6214 * kmph \n",
    "    return mph  \n",
    "  \n",
    "# Function to convert mph to kmph     \n",
    "def mphTOkmph(mph): \n",
    "    kmph =(float)(mph * 1.60934) \n",
    "    return kmph \n",
    "\n",
    "def mainUnitConv():\n",
    "    print(\"Python program for the conversion\")\n",
    "    print(\"kmph to mph and vice versa\")\n",
    "    \n",
    "    kmph = eval(input(\"Enter speed in miles / hr is: \"))\n",
    "    mph = eval(input(\"Enter speed in km / hr is: \"))\n",
    "    \n",
    "    print(\"speed in miles / hr is \", kmphTOmph(kmph))  \n",
    "  \n",
    "    print(\"speed in km / hr is \", mphTOkmph(mph))\n",
    "\n",
    "mainUnitConv()"
   ]
  },
  {
   "cell_type": "code",
   "execution_count": null,
   "metadata": {},
   "outputs": [],
   "source": []
  },
  {
   "cell_type": "code",
   "execution_count": null,
   "metadata": {},
   "outputs": [],
   "source": []
  }
 ],
 "metadata": {
  "kernelspec": {
   "display_name": "Python 3",
   "language": "python",
   "name": "python3"
  },
  "language_info": {
   "codemirror_mode": {
    "name": "ipython",
    "version": 3
   },
   "file_extension": ".py",
   "mimetype": "text/x-python",
   "name": "python",
   "nbconvert_exporter": "python",
   "pygments_lexer": "ipython3",
   "version": "3.7.5"
  }
 },
 "nbformat": 4,
 "nbformat_minor": 2
}
